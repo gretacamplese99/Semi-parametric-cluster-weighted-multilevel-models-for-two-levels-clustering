{
 "cells": [
  {
   "cell_type": "code",
   "execution_count": 2,
   "metadata": {},
   "outputs": [],
   "source": [
    "import pickle\n",
    "import numpy as np\n",
    "import pandas as pd\n",
    "from sklearn import preprocessing"
   ]
  },
  {
   "cell_type": "code",
   "execution_count": 2,
   "metadata": {},
   "outputs": [],
   "source": [
    "file_path = 'parametri_simul_1.pkl'\n",
    "with open(file_path, 'rb') as file:\n",
    "    parametri_caricati = pickle.load(file)\n",
    "    \n",
    "params_1 = parametri_caricati['parameters']\n",
    "z_1 = parametri_caricati['z']\n",
    "iter_1 = parametri_caricati['iter']"
   ]
  },
  {
   "cell_type": "code",
   "execution_count": 3,
   "metadata": {},
   "outputs": [],
   "source": [
    "file_path = 'parametri_simul_2.pkl'\n",
    "with open(file_path, 'rb') as file:\n",
    "    parametri_caricati = pickle.load(file)\n",
    "    \n",
    "params_2 = parametri_caricati['parameters']\n",
    "z_2 = parametri_caricati['z']\n",
    "iter_2 = parametri_caricati['iter']"
   ]
  },
  {
   "cell_type": "code",
   "execution_count": 4,
   "metadata": {},
   "outputs": [],
   "source": [
    "file_path = 'parametri_simul_3.pkl'\n",
    "with open(file_path, 'rb') as file:\n",
    "    parametri_caricati = pickle.load(file)\n",
    "    \n",
    "params_3 = parametri_caricati['parameters']\n",
    "z_3 = parametri_caricati['z']\n",
    "iter_3 = parametri_caricati['iter']"
   ]
  },
  {
   "cell_type": "code",
   "execution_count": 5,
   "metadata": {},
   "outputs": [],
   "source": [
    "params=[]\n",
    "for i in range(33):\n",
    "    params.append(params_1[i])\n",
    "    params.append(params_2[i])\n",
    "    params.append(params_3[i])\n",
    "params.append(params_3[33])"
   ]
  },
  {
   "cell_type": "markdown",
   "metadata": {},
   "source": [
    "### Distribution of random intercept"
   ]
  },
  {
   "cell_type": "code",
   "execution_count": 27,
   "metadata": {},
   "outputs": [],
   "source": [
    "w = [0.4, 0.3, 0.3]\n",
    "cluster = np.repeat(np.arange(1, len(w) + 1), [int(w[i] * 5000) for i in range(len(w))])\n",
    "\n",
    "mean_1 = [-10,-10]\n",
    "cov_1 = np.array([[0.7, 0.5], [0.5, 3]])\n",
    "mean_2 = [0,0]\n",
    "cov_2 = np.array([[2, -1], [-1, 3]])\n",
    "mean_3 = [0,-12]\n",
    "cov_3 = np.array([[0.5, 0.2], [0.2, 1]])\n",
    "\n",
    "data_1 = np.random.multivariate_normal(mean_1, cov_1, int(w[0] * 5000))\n",
    "data_2 = np.random.multivariate_normal(mean_2, cov_2, int(w[1] * 5000))\n",
    "data_3 = np.random.multivariate_normal(mean_3, cov_3, int(w[2] * 5000))\n",
    "data = np.vstack((data_1, data_2, data_3)) # combina i dati\n",
    "\n",
    "data = pd.DataFrame(data, columns=['x1', 'x2'])\n",
    "data['x1'] = preprocessing.scale(data.x1)\n",
    "data['x2'] = preprocessing.scale(data.x2)\n",
    "\n",
    "params_1_knots = []\n",
    "params_2_knots = []\n",
    "params_3_knots = []\n",
    "\n",
    "for j in range(100):\n",
    "  fitted_cluster = np.zeros(5000)\n",
    "  for i in range(5000):\n",
    "    fitted_cluster[i] = np.argmax(params[j]['z'][i]) + 1\n",
    "\n",
    "  mean_real_1 = data[['x1','x2']][cluster==1].mean()\n",
    "  mean_real_2 = data[['x1','x2']][cluster==2].mean()\n",
    "  mean_real_3 = data[['x1','x2']][cluster==3].mean()\n",
    "  mean_fitted_1 = data[['x1','x2']][fitted_cluster==1].mean()\n",
    "  mean_fitted_2 = data[['x1','x2']][fitted_cluster==2].mean()\n",
    "  mean_fitted_3 = data[['x1','x2']][fitted_cluster==3].mean()\n",
    "\n",
    "  # cerco cluster corrispondente al cluster 1\n",
    "  if np.linalg.norm(mean_real_1 - mean_fitted_1) < np.linalg.norm(mean_real_1 - mean_fitted_2) and np.linalg.norm(mean_real_1 - mean_fitted_1) < np.linalg.norm(mean_real_1 - mean_fitted_3):\n",
    "    params_1_knots.append(params[j]['knots'][0])\n",
    "  elif np.linalg.norm(mean_real_1 - mean_fitted_2) < np.linalg.norm(mean_real_1 - mean_fitted_1) and np.linalg.norm(mean_real_1 - mean_fitted_2) < np.linalg.norm(mean_real_1 - mean_fitted_3):\n",
    "    params_1_knots.append(params[j]['knots'][1])\n",
    "  else :\n",
    "    params_1_knots.append(params[j]['knots'][2])\n",
    "\n",
    "  # cerco cluster corrispondente al cluster 2\n",
    "  if np.linalg.norm(mean_real_2 - mean_fitted_1) < np.linalg.norm(mean_real_2 - mean_fitted_2) and np.linalg.norm(mean_real_2 - mean_fitted_1) < np.linalg.norm(mean_real_2 - mean_fitted_3):\n",
    "    params_2_knots.append(params[j]['knots'][0])\n",
    "  elif np.linalg.norm(mean_real_2 - mean_fitted_2) < np.linalg.norm(mean_real_2 - mean_fitted_1) and np.linalg.norm(mean_real_2 - mean_fitted_2) < np.linalg.norm(mean_real_2 - mean_fitted_3):\n",
    "    params_2_knots.append(params[j]['knots'][1])\n",
    "  else :\n",
    "    params_2_knots.append(params[j]['knots'][2])\n",
    "\n",
    "  # cerco cluster corrispondente al cluster 3\n",
    "  if np.linalg.norm(mean_real_3 - mean_fitted_1) < np.linalg.norm(mean_real_3 - mean_fitted_2) and np.linalg.norm(mean_real_3 - mean_fitted_1) < np.linalg.norm(mean_real_3 - mean_fitted_3):\n",
    "    params_3_knots.append(params[j]['knots'][0])\n",
    "  elif np.linalg.norm(mean_real_3 - mean_fitted_2) < np.linalg.norm(mean_real_3 - mean_fitted_1) and np.linalg.norm(mean_real_3 - mean_fitted_2) < np.linalg.norm(mean_real_3 - mean_fitted_3):\n",
    "    params_3_knots.append(params[j]['knots'][1])\n",
    "  else :\n",
    "    params_3_knots.append(params[j]['knots'][2])"
   ]
  },
  {
   "cell_type": "code",
   "execution_count": 53,
   "metadata": {},
   "outputs": [],
   "source": [
    "coeff_1_1 = []\n",
    "coeff_1_2 = []\n",
    "coeff_2_1 = []\n",
    "coeff_2_2 = []\n",
    "coeff_2_3 = []\n",
    "coeff_3_1 = []\n",
    "coeff_3_2 = []\n",
    "coeff_3_3 = []\n",
    "for i in range(100):\n",
    "    if len(params_1_knots[i]) == 2:\n",
    "        coeff_1_1.append(sorted(params_1_knots[i])[0])\n",
    "        coeff_1_2.append(sorted(params_1_knots[i])[1])\n",
    "    if len(params_2_knots[i]) == 3:\n",
    "        coeff_2_1.append(sorted(params_2_knots[i])[0])\n",
    "        coeff_2_2.append(sorted(params_2_knots[i])[1])\n",
    "        coeff_2_3.append(sorted(params_2_knots[i])[2])\n",
    "    if len(params_3_knots[i]) == 3:\n",
    "        coeff_3_1.append(sorted(params_3_knots[i])[0])\n",
    "        coeff_3_2.append(sorted(params_3_knots[i])[1])\n",
    "        coeff_3_3.append(sorted(params_3_knots[i])[2])\n"
   ]
  },
  {
   "cell_type": "code",
   "execution_count": 70,
   "metadata": {},
   "outputs": [
    {
     "data": {
      "image/png": "[encoded data removed]",
      "text/plain": [
       "<Figure size 576x576 with 2 Axes>"
      ]
     },
     "metadata": {
      "needs_background": "light"
     },
     "output_type": "display_data"
    }
   ],
   "source": [
    "import matplotlib.pyplot as plt\n",
    "fig, axs = plt.subplots(1, 2, figsize=(8,8))\n",
    "axs = axs.flatten()\n",
    "\n",
    "axs[0].hist(coeff_1_1, bins=17, edgecolor='black')\n",
    "axs[0].axvline(x=0, color='red', linestyle='dashed', linewidth=2, label='Vertical Line at x=0')\n",
    "axs[0].set_title('Histogram random intercept cluster 1')\n",
    "\n",
    "axs[1].hist(coeff_1_2, bins=17, edgecolor='black')\n",
    "axs[1].axvline(x=1, color='red', linestyle='dashed', linewidth=2, label='Vertical Line at x=0')\n",
    "axs[1].set_title('Histogram random intercept cluster 2')\n",
    "\n",
    "fig.suptitle('Profile 1')\n",
    "plt.savefig('Histogram rand inter - cluster 1.png')"
   ]
  },
  {
   "cell_type": "code",
   "execution_count": 67,
   "metadata": {},
   "outputs": [
    {
     "data": {
      "image/png": "[encoded data removed]",
      "text/plain": [
       "<Figure size 864x576 with 3 Axes>"
      ]
     },
     "metadata": {
      "needs_background": "light"
     },
     "output_type": "display_data"
    }
   ],
   "source": [
    "fig, axs = plt.subplots(1, 3, figsize=(12,8))\n",
    "axs = axs.flatten()\n",
    "\n",
    "axs[0].hist(coeff_2_1, bins=17, edgecolor='black')\n",
    "axs[0].axvline(x=0, color='red', linestyle='dashed', linewidth=2, label='Vertical Line at x=0')\n",
    "axs[0].set_title('Histogram random intercept cluster 1')\n",
    "\n",
    "axs[1].hist(coeff_2_2, bins=17, edgecolor='black')\n",
    "axs[1].axvline(x=1, color='red', linestyle='dashed', linewidth=2, label='Vertical Line at x=0')\n",
    "axs[1].set_title('Histogram random intercept cluster 2')\n",
    "\n",
    "axs[2].hist(coeff_2_3, bins=17, edgecolor='black')\n",
    "axs[2].axvline(x=2, color='red', linestyle='dashed', linewidth=2, label='Vertical Line at x=0')\n",
    "axs[2].set_title('Histogram random intercept cluster 3')\n",
    "\n",
    "fig.suptitle('Profile 2')\n",
    "plt.savefig('Histogram rand inter - cluster 2.png')"
   ]
  },
  {
   "cell_type": "code",
   "execution_count": 68,
   "metadata": {},
   "outputs": [
    {
     "data": {
      "image/png": "[encoded data removed]",
      "text/plain": [
       "<Figure size 864x576 with 3 Axes>"
      ]
     },
     "metadata": {
      "needs_background": "light"
     },
     "output_type": "display_data"
    }
   ],
   "source": [
    "fig, axs = plt.subplots(1, 3, figsize=(12,8))\n",
    "axs = axs.flatten()\n",
    "\n",
    "axs[0].hist(coeff_3_1, bins=17, edgecolor='black')\n",
    "axs[0].axvline(x=0, color='red', linestyle='dashed', linewidth=2, label='Vertical Line at x=0')\n",
    "axs[0].set_title('Histogram random intercept cluster 1')\n",
    "\n",
    "axs[1].hist(coeff_3_2, bins=17, edgecolor='black')\n",
    "axs[1].axvline(x=1, color='red', linestyle='dashed', linewidth=2, label='Vertical Line at x=0')\n",
    "axs[1].set_title('Histogram random intercept cluster 2')\n",
    "\n",
    "axs[2].hist(coeff_3_3, bins=17, edgecolor='black')\n",
    "axs[2].axvline(x=2, color='red', linestyle='dashed', linewidth=2, label='Vertical Line at x=0')\n",
    "axs[2].set_title('Histogram random intercept cluster 3')\n",
    "\n",
    "fig.suptitle('Profile 3')\n",
    "plt.savefig('Histogram rand inter - cluster 3.png')"
   ]
  },
  {
   "cell_type": "code",
   "execution_count": 73,
   "metadata": {},
   "outputs": [
    {
     "data": {
      "image/png": "[encoded data removed]",
      "text/plain": [
       "<Figure size 576x576 with 2 Axes>"
      ]
     },
     "metadata": {
      "needs_background": "light"
     },
     "output_type": "display_data"
    }
   ],
   "source": [
    "fig, axs = plt.subplots(1, 2, figsize=(8,8))\n",
    "axs = axs.flatten()\n",
    "\n",
    "axs[0].boxplot(coeff_1_1)\n",
    "axs[0].axhline(y=0, color='red', linestyle='--', linewidth=2, label='clust1')\n",
    "axs[0].set_title('Boxplot random intercept cluster 1')\n",
    "\n",
    "axs[1].boxplot(coeff_1_2)\n",
    "axs[1].axhline(y=1, color='red', linestyle='--', linewidth=2, label='clust2')\n",
    "axs[1].set_title('Boxplot random intercept cluster 2')\n",
    "\n",
    "fig.suptitle('Profile 1')\n",
    "plt.savefig('Boxplot rand inter- cluster 1.png')"
   ]
  },
  {
   "cell_type": "code",
   "execution_count": 74,
   "metadata": {},
   "outputs": [
    {
     "data": {
      "image/png": "[encoded data removed]",
      "text/plain": [
       "<Figure size 864x576 with 3 Axes>"
      ]
     },
     "metadata": {
      "needs_background": "light"
     },
     "output_type": "display_data"
    }
   ],
   "source": [
    "fig, axs = plt.subplots(1, 3, figsize=(12,8))\n",
    "axs = axs.flatten()\n",
    "\n",
    "axs[0].boxplot(coeff_2_1)\n",
    "axs[0].axhline(y=0, color='red', linestyle='--', linewidth=2, label='clust1')\n",
    "axs[0].set_title('Boxplot random intercept cluster 1')\n",
    "\n",
    "axs[1].boxplot(coeff_2_2)\n",
    "axs[1].axhline(y=1, color='red', linestyle='--', linewidth=2, label='clust2')\n",
    "axs[1].set_title('Boxplot random intercept cluster 2')\n",
    "\n",
    "axs[2].boxplot(coeff_2_3)\n",
    "axs[2].axhline(y=2, color='red', linestyle='--', linewidth=2, label='clust2')\n",
    "axs[2].set_title('Boxplot random intercept cluster 3')\n",
    "\n",
    "fig.suptitle('Profile 2')\n",
    "plt.savefig('Boxplot rand inter- cluster 2.png')"
   ]
  },
  {
   "cell_type": "code",
   "execution_count": 75,
   "metadata": {},
   "outputs": [
    {
     "data": {
      "image/png": "[encoded data removed]",
      "text/plain": [
       "<Figure size 864x576 with 3 Axes>"
      ]
     },
     "metadata": {
      "needs_background": "light"
     },
     "output_type": "display_data"
    }
   ],
   "source": [
    "fig, axs = plt.subplots(1, 3, figsize=(12,8))\n",
    "axs = axs.flatten()\n",
    "\n",
    "axs[0].boxplot(coeff_3_1)\n",
    "axs[0].axhline(y=0, color='red', linestyle='--', linewidth=2, label='clust1')\n",
    "axs[0].set_title('Boxplot random intercept cluster 1')\n",
    "\n",
    "axs[1].boxplot(coeff_3_2)\n",
    "axs[1].axhline(y=1, color='red', linestyle='--', linewidth=2, label='clust2')\n",
    "axs[1].set_title('Boxplot random intercept cluster 2')\n",
    "\n",
    "axs[2].boxplot(coeff_3_3)\n",
    "axs[2].axhline(y=2, color='red', linestyle='--', linewidth=2, label='clust2')\n",
    "axs[2].set_title('Boxplot random intercept cluster 3')\n",
    "\n",
    "fig.suptitle('Profile 3')\n",
    "plt.savefig('Boxplot rand inter- cluster 3.png')"
   ]
  },
  {
   "cell_type": "code",
   "execution_count": 76,
   "metadata": {},
   "outputs": [],
   "source": [
    "mean_1_1 = np.mean(coeff_1_1)\n",
    "std_1_1 = np.std(coeff_1_1)\n",
    "mean_1_2 = np.mean(coeff_1_2)\n",
    "std_1_2 = np.std(coeff_1_2)\n",
    "\n",
    "mean_2_1 = np.mean(coeff_2_1)\n",
    "std_2_1 = np.std(coeff_2_1)\n",
    "mean_2_2 = np.mean(coeff_2_2)\n",
    "std_2_2 = np.std(coeff_2_2)\n",
    "mean_2_3 = np.mean(coeff_2_3)\n",
    "std_2_3 = np.std(coeff_2_3)\n",
    "\n",
    "mean_3_1 = np.mean(coeff_3_1)\n",
    "std_3_1 = np.std(coeff_3_1)\n",
    "mean_3_2 = np.mean(coeff_3_2)\n",
    "std_3_2 = np.std(coeff_3_2)\n",
    "mean_3_3 = np.mean(coeff_3_3)\n",
    "std_3_3 = np.std(coeff_3_3)"
   ]
  },
  {
   "cell_type": "code",
   "execution_count": 77,
   "metadata": {},
   "outputs": [
    {
     "data": {
      "text/html": [
       "<div>\n",
       "<style scoped>\n",
       "    .dataframe tbody tr th:only-of-type {\n",
       "        vertical-align: middle;\n",
       "    }\n",
       "\n",
       "    .dataframe tbody tr th {\n",
       "        vertical-align: top;\n",
       "    }\n",
       "\n",
       "    .dataframe thead th {\n",
       "        text-align: right;\n",
       "    }\n",
       "</style>\n",
       "<table border=\"1\" class=\"dataframe\">\n",
       "  <thead>\n",
       "    <tr style=\"text-align: right;\">\n",
       "      <th></th>\n",
       "      <th>True random intercept</th>\n",
       "      <th>Fitted Mean</th>\n",
       "      <th>Fitted Standard Deviation</th>\n",
       "    </tr>\n",
       "  </thead>\n",
       "  <tbody>\n",
       "    <tr>\n",
       "      <th>0</th>\n",
       "      <td>0</td>\n",
       "      <td>-0.025345</td>\n",
       "      <td>0.374651</td>\n",
       "    </tr>\n",
       "    <tr>\n",
       "      <th>1</th>\n",
       "      <td>1</td>\n",
       "      <td>0.976049</td>\n",
       "      <td>0.372590</td>\n",
       "    </tr>\n",
       "  </tbody>\n",
       "</table>\n",
       "</div>"
      ],
      "text/plain": [
       "   True random intercept  Fitted Mean  Fitted Standard Deviation\n",
       "0                      0    -0.025345                   0.374651\n",
       "1                      1     0.976049                   0.372590"
      ]
     },
     "execution_count": 77,
     "metadata": {},
     "output_type": "execute_result"
    }
   ],
   "source": [
    "rand_inter_1 = {'True random intercept' : [0,1],\n",
    "             'Fitted Mean' : [mean_1_1, mean_1_2],\n",
    "             'Fitted Standard Deviation' : [std_1_1,std_1_2]\n",
    "             }\n",
    "rand_inter_1 = pd.DataFrame(rand_inter_1)\n",
    "rand_inter_1"
   ]
  },
  {
   "cell_type": "code",
   "execution_count": 78,
   "metadata": {},
   "outputs": [
    {
     "data": {
      "text/html": [
       "<div>\n",
       "<style scoped>\n",
       "    .dataframe tbody tr th:only-of-type {\n",
       "        vertical-align: middle;\n",
       "    }\n",
       "\n",
       "    .dataframe tbody tr th {\n",
       "        vertical-align: top;\n",
       "    }\n",
       "\n",
       "    .dataframe thead th {\n",
       "        text-align: right;\n",
       "    }\n",
       "</style>\n",
       "<table border=\"1\" class=\"dataframe\">\n",
       "  <thead>\n",
       "    <tr style=\"text-align: right;\">\n",
       "      <th></th>\n",
       "      <th>True random intercept</th>\n",
       "      <th>Fitted Mean</th>\n",
       "      <th>Fitted Standard Deviation</th>\n",
       "    </tr>\n",
       "  </thead>\n",
       "  <tbody>\n",
       "    <tr>\n",
       "      <th>0</th>\n",
       "      <td>0</td>\n",
       "      <td>0.130611</td>\n",
       "      <td>0.480665</td>\n",
       "    </tr>\n",
       "    <tr>\n",
       "      <th>1</th>\n",
       "      <td>1</td>\n",
       "      <td>1.158486</td>\n",
       "      <td>0.468715</td>\n",
       "    </tr>\n",
       "    <tr>\n",
       "      <th>2</th>\n",
       "      <td>2</td>\n",
       "      <td>2.165740</td>\n",
       "      <td>0.506701</td>\n",
       "    </tr>\n",
       "  </tbody>\n",
       "</table>\n",
       "</div>"
      ],
      "text/plain": [
       "   True random intercept  Fitted Mean  Fitted Standard Deviation\n",
       "0                      0     0.130611                   0.480665\n",
       "1                      1     1.158486                   0.468715\n",
       "2                      2     2.165740                   0.506701"
      ]
     },
     "execution_count": 78,
     "metadata": {},
     "output_type": "execute_result"
    }
   ],
   "source": [
    "rand_inter_2 = {'True random intercept' : [0,1,2],\n",
    "             'Fitted Mean' : [mean_2_1, mean_2_2, mean_2_3],\n",
    "             'Fitted Standard Deviation' : [std_2_1,std_2_2, std_2_3]\n",
    "             }\n",
    "rand_inter_2 = pd.DataFrame(rand_inter_2)\n",
    "rand_inter_2"
   ]
  },
  {
   "cell_type": "code",
   "execution_count": 79,
   "metadata": {},
   "outputs": [
    {
     "data": {
      "text/html": [
       "<div>\n",
       "<style scoped>\n",
       "    .dataframe tbody tr th:only-of-type {\n",
       "        vertical-align: middle;\n",
       "    }\n",
       "\n",
       "    .dataframe tbody tr th {\n",
       "        vertical-align: top;\n",
       "    }\n",
       "\n",
       "    .dataframe thead th {\n",
       "        text-align: right;\n",
       "    }\n",
       "</style>\n",
       "<table border=\"1\" class=\"dataframe\">\n",
       "  <thead>\n",
       "    <tr style=\"text-align: right;\">\n",
       "      <th></th>\n",
       "      <th>True random intercept</th>\n",
       "      <th>Fitted Mean</th>\n",
       "      <th>Fitted Standard Deviation</th>\n",
       "    </tr>\n",
       "  </thead>\n",
       "  <tbody>\n",
       "    <tr>\n",
       "      <th>0</th>\n",
       "      <td>0</td>\n",
       "      <td>0.033993</td>\n",
       "      <td>0.504803</td>\n",
       "    </tr>\n",
       "    <tr>\n",
       "      <th>1</th>\n",
       "      <td>1</td>\n",
       "      <td>1.046077</td>\n",
       "      <td>0.511618</td>\n",
       "    </tr>\n",
       "    <tr>\n",
       "      <th>2</th>\n",
       "      <td>2</td>\n",
       "      <td>2.053017</td>\n",
       "      <td>0.536925</td>\n",
       "    </tr>\n",
       "  </tbody>\n",
       "</table>\n",
       "</div>"
      ],
      "text/plain": [
       "   True random intercept  Fitted Mean  Fitted Standard Deviation\n",
       "0                      0     0.033993                   0.504803\n",
       "1                      1     1.046077                   0.511618\n",
       "2                      2     2.053017                   0.536925"
      ]
     },
     "execution_count": 79,
     "metadata": {},
     "output_type": "execute_result"
    }
   ],
   "source": [
    "rand_inter_3 = {'True random intercept' : [0,1,2],\n",
    "             'Fitted Mean' : [mean_3_1, mean_3_2, mean_3_3],\n",
    "             'Fitted Standard Deviation' : [std_3_1,std_3_2, std_3_3]\n",
    "             }\n",
    "rand_inter_3 = pd.DataFrame(rand_inter_3)\n",
    "rand_inter_3"
   ]
  },
  {
   "cell_type": "markdown",
   "metadata": {},
   "source": [
    "### Accuracy"
   ]
  },
  {
   "cell_type": "code",
   "execution_count": 3,
   "metadata": {},
   "outputs": [],
   "source": [
    "file_path = 'parametri_GLM_1.pkl'\n",
    "with open(file_path, 'rb') as file:\n",
    "    parametri_caricati = pickle.load(file)\n",
    "    \n",
    "acc_1 = parametri_caricati['acc']\n",
    "acc_GLM_1 = parametri_caricati['acc_GLM']\n",
    "acc_GLMER_1 = parametri_caricati['acc_GLMER']\n",
    "auc_1 = parametri_caricati['auc']"
   ]
  },
  {
   "cell_type": "code",
   "execution_count": 4,
   "metadata": {},
   "outputs": [],
   "source": [
    "file_path = 'parametri_GLM_2.pkl'\n",
    "with open(file_path, 'rb') as file:\n",
    "    parametri_caricati = pickle.load(file)\n",
    "    \n",
    "acc_2 = parametri_caricati['acc']\n",
    "acc_GLM_2 = parametri_caricati['acc_GLM']\n",
    "acc_GLMER_2 = parametri_caricati['acc_GLMER']\n",
    "auc_2 = parametri_caricati['auc']"
   ]
  },
  {
   "cell_type": "code",
   "execution_count": 5,
   "metadata": {},
   "outputs": [],
   "source": [
    "file_path = 'parametri_GLM_3.pkl'\n",
    "with open(file_path, 'rb') as file:\n",
    "    parametri_caricati = pickle.load(file)\n",
    "    \n",
    "acc_3 = parametri_caricati['acc']\n",
    "acc_GLM_3 = parametri_caricati['acc_GLM']\n",
    "acc_GLMER_3 = parametri_caricati['acc_GLMER']\n",
    "auc_3 = parametri_caricati['auc']"
   ]
  },
  {
   "cell_type": "code",
   "execution_count": 6,
   "metadata": {},
   "outputs": [],
   "source": [
    "acc = acc_1 + acc_2 + acc_3\n",
    "acc_GLM = acc_GLM_1 + acc_GLM_2 + acc_GLM_3\n",
    "acc_GLMER = acc_GLMER_1 + acc_GLMER_2 + acc_GLMER_3\n",
    "auc = auc_1 + auc_2 + auc_3"
   ]
  },
  {
   "cell_type": "code",
   "execution_count": 7,
   "metadata": {},
   "outputs": [
    {
     "data": {
      "text/plain": [
       "0.7075279999999999"
      ]
     },
     "execution_count": 7,
     "metadata": {},
     "output_type": "execute_result"
    }
   ],
   "source": [
    "np.mean(acc)"
   ]
  },
  {
   "cell_type": "code",
   "execution_count": 10,
   "metadata": {},
   "outputs": [
    {
     "data": {
      "text/plain": [
       "0.01083813710930066"
      ]
     },
     "execution_count": 10,
     "metadata": {},
     "output_type": "execute_result"
    }
   ],
   "source": [
    "np.std(acc)"
   ]
  },
  {
   "cell_type": "code",
   "execution_count": 8,
   "metadata": {},
   "outputs": [
    {
     "data": {
      "text/plain": [
       "0.587108"
      ]
     },
     "execution_count": 8,
     "metadata": {},
     "output_type": "execute_result"
    }
   ],
   "source": [
    "np.mean(acc_GLM)"
   ]
  },
  {
   "cell_type": "code",
   "execution_count": 11,
   "metadata": {},
   "outputs": [
    {
     "data": {
      "text/plain": [
       "0.011070913964077217"
      ]
     },
     "execution_count": 11,
     "metadata": {},
     "output_type": "execute_result"
    }
   ],
   "source": [
    "np.std(acc_GLM)"
   ]
  },
  {
   "cell_type": "code",
   "execution_count": 9,
   "metadata": {},
   "outputs": [
    {
     "data": {
      "text/plain": [
       "0.5958960000000001"
      ]
     },
     "execution_count": 9,
     "metadata": {},
     "output_type": "execute_result"
    }
   ],
   "source": [
    "np.mean(acc_GLMER)"
   ]
  },
  {
   "cell_type": "code",
   "execution_count": 12,
   "metadata": {},
   "outputs": [
    {
     "data": {
      "text/plain": [
       "0.021127450958409535"
      ]
     },
     "execution_count": 12,
     "metadata": {},
     "output_type": "execute_result"
    }
   ],
   "source": [
    "np.std(acc_GLMER)"
   ]
  },
  {
   "cell_type": "code",
   "execution_count": 140,
   "metadata": {},
   "outputs": [
    {
     "data": {
      "text/plain": [
       "0.7717173244749991"
      ]
     },
     "execution_count": 140,
     "metadata": {},
     "output_type": "execute_result"
    }
   ],
   "source": [
    "np.mean(auc)"
   ]
  },
  {
   "cell_type": "code",
   "execution_count": 13,
   "metadata": {},
   "outputs": [
    {
     "data": {
      "text/plain": [
       "0.008561765649153154"
      ]
     },
     "execution_count": 13,
     "metadata": {},
     "output_type": "execute_result"
    }
   ],
   "source": [
    "np.std(auc)"
   ]
  },
  {
   "cell_type": "code",
   "execution_count": 132,
   "metadata": {},
   "outputs": [
    {
     "name": "stderr",
     "output_type": "stream",
     "text": [
      "/u/archive/laureandi/camplese/anaconda3/lib/python3.8/site-packages/numpy/core/_asarray.py:136: VisibleDeprecationWarning: Creating an ndarray from ragged nested sequences (which is a list-or-tuple of lists-or-tuples-or ndarrays with different lengths or shapes) is deprecated. If you meant to do this, you must specify 'dtype=object' when creating the ndarray\n",
      "  return array(a, dtype, copy=False, order=order, subok=True)\n"
     ]
    },
    {
     "ename": "TypeError",
     "evalue": "unsupported operand type(s) for /: 'list' and 'int'",
     "output_type": "error",
     "traceback": [
      "\u001b[0;31m---------------------------------------------------------------------------\u001b[0m",
      "\u001b[0;31mTypeError\u001b[0m                                 Traceback (most recent call last)",
      "\u001b[0;32m<ipython-input-132-107b63857fc5>\u001b[0m in \u001b[0;36m<module>\u001b[0;34m\u001b[0m\n\u001b[0;32m----> 1\u001b[0;31m \u001b[0mnp\u001b[0m\u001b[0;34m.\u001b[0m\u001b[0mmean\u001b[0m\u001b[0;34m(\u001b[0m\u001b[0macc\u001b[0m\u001b[0;34m)\u001b[0m\u001b[0;34m\u001b[0m\u001b[0;34m\u001b[0m\u001b[0m\n\u001b[0m",
      "\u001b[0;32m<__array_function__ internals>\u001b[0m in \u001b[0;36mmean\u001b[0;34m(*args, **kwargs)\u001b[0m\n",
      "\u001b[0;32m/u/archive/laureandi/camplese/anaconda3/lib/python3.8/site-packages/numpy/core/fromnumeric.py\u001b[0m in \u001b[0;36mmean\u001b[0;34m(a, axis, dtype, out, keepdims)\u001b[0m\n\u001b[1;32m   3370\u001b[0m             \u001b[0;32mreturn\u001b[0m \u001b[0mmean\u001b[0m\u001b[0;34m(\u001b[0m\u001b[0maxis\u001b[0m\u001b[0;34m=\u001b[0m\u001b[0maxis\u001b[0m\u001b[0;34m,\u001b[0m \u001b[0mdtype\u001b[0m\u001b[0;34m=\u001b[0m\u001b[0mdtype\u001b[0m\u001b[0;34m,\u001b[0m \u001b[0mout\u001b[0m\u001b[0;34m=\u001b[0m\u001b[0mout\u001b[0m\u001b[0;34m,\u001b[0m \u001b[0;34m**\u001b[0m\u001b[0mkwargs\u001b[0m\u001b[0;34m)\u001b[0m\u001b[0;34m\u001b[0m\u001b[0;34m\u001b[0m\u001b[0m\n\u001b[1;32m   3371\u001b[0m \u001b[0;34m\u001b[0m\u001b[0m\n\u001b[0;32m-> 3372\u001b[0;31m     return _methods._mean(a, axis=axis, dtype=dtype,\n\u001b[0m\u001b[1;32m   3373\u001b[0m                           out=out, **kwargs)\n\u001b[1;32m   3374\u001b[0m \u001b[0;34m\u001b[0m\u001b[0m\n",
      "\u001b[0;32m/u/archive/laureandi/camplese/anaconda3/lib/python3.8/site-packages/numpy/core/_methods.py\u001b[0m in \u001b[0;36m_mean\u001b[0;34m(a, axis, dtype, out, keepdims)\u001b[0m\n\u001b[1;32m    170\u001b[0m             \u001b[0mret\u001b[0m \u001b[0;34m=\u001b[0m \u001b[0mret\u001b[0m\u001b[0;34m.\u001b[0m\u001b[0mdtype\u001b[0m\u001b[0;34m.\u001b[0m\u001b[0mtype\u001b[0m\u001b[0;34m(\u001b[0m\u001b[0mret\u001b[0m \u001b[0;34m/\u001b[0m \u001b[0mrcount\u001b[0m\u001b[0;34m)\u001b[0m\u001b[0;34m\u001b[0m\u001b[0;34m\u001b[0m\u001b[0m\n\u001b[1;32m    171\u001b[0m     \u001b[0;32melse\u001b[0m\u001b[0;34m:\u001b[0m\u001b[0;34m\u001b[0m\u001b[0;34m\u001b[0m\u001b[0m\n\u001b[0;32m--> 172\u001b[0;31m         \u001b[0mret\u001b[0m \u001b[0;34m=\u001b[0m \u001b[0mret\u001b[0m \u001b[0;34m/\u001b[0m \u001b[0mrcount\u001b[0m\u001b[0;34m\u001b[0m\u001b[0;34m\u001b[0m\u001b[0m\n\u001b[0m\u001b[1;32m    173\u001b[0m \u001b[0;34m\u001b[0m\u001b[0m\n\u001b[1;32m    174\u001b[0m     \u001b[0;32mreturn\u001b[0m \u001b[0mret\u001b[0m\u001b[0;34m\u001b[0m\u001b[0;34m\u001b[0m\u001b[0m\n",
      "\u001b[0;31mTypeError\u001b[0m: unsupported operand type(s) for /: 'list' and 'int'"
     ]
    }
   ],
   "source": [
    "np.mean(acc)"
   ]
  },
  {
   "cell_type": "markdown",
   "metadata": {},
   "source": [
    "### Stima mu, sigma e lambda\n"
   ]
  },
  {
   "cell_type": "code",
   "execution_count": 6,
   "metadata": {},
   "outputs": [],
   "source": [
    "w = [0.4, 0.3, 0.3]\n",
    "cluster = np.repeat(np.arange(1, len(w) + 1), [int(w[i] * 5000) for i in range(len(w))])\n",
    "\n",
    "mean_1 = [-10,-10]\n",
    "cov_1 = np.array([[0.7, 0.5], [0.5, 3]])\n",
    "mean_2 = [0,0]\n",
    "cov_2 = np.array([[2, -1], [-1, 3]])\n",
    "mean_3 = [0,-12]\n",
    "cov_3 = np.array([[0.5, 0.2], [0.2, 1]])\n",
    "\n",
    "data_1 = np.random.multivariate_normal(mean_1, cov_1, int(w[0] * 5000))\n",
    "data_2 = np.random.multivariate_normal(mean_2, cov_2, int(w[1] * 5000))\n",
    "data_3 = np.random.multivariate_normal(mean_3, cov_3, int(w[2] * 5000))\n",
    "data = np.vstack((data_1, data_2, data_3)) # combina i dati\n",
    "\n",
    "data = pd.DataFrame(data, columns=['x1', 'x2'])\n",
    "data['x1'] = preprocessing.scale(data.x1)\n",
    "data['x2'] = preprocessing.scale(data.x2)\n",
    "\n",
    "mu_1 = []\n",
    "mu_2 = []\n",
    "mu_3 = []\n",
    "sigma_1 = []\n",
    "sigma_2 = []\n",
    "sigma_3 = []\n",
    "lam_1 = []\n",
    "lam_2 = []\n",
    "lam_3 = []\n",
    "\n",
    "for j in range(100):\n",
    "  fitted_cluster = np.zeros(5000)\n",
    "  for i in range(5000):\n",
    "    fitted_cluster[i] = np.argmax(params[j]['z'][i]) + 1\n",
    "\n",
    "  mean_real_1 = data[['x1','x2']][cluster==1].mean()\n",
    "  mean_real_2 = data[['x1','x2']][cluster==2].mean()\n",
    "  mean_real_3 = data[['x1','x2']][cluster==3].mean()\n",
    "  mean_fitted_1 = data[['x1','x2']][fitted_cluster==1].mean()\n",
    "  mean_fitted_2 = data[['x1','x2']][fitted_cluster==2].mean()\n",
    "  mean_fitted_3 = data[['x1','x2']][fitted_cluster==3].mean()\n",
    "\n",
    "  # cerco cluster corrispondente al cluster 1\n",
    "  if np.linalg.norm(mean_real_1 - mean_fitted_1) < np.linalg.norm(mean_real_1 - mean_fitted_2) and np.linalg.norm(mean_real_1 - mean_fitted_1) < np.linalg.norm(mean_real_1 - mean_fitted_3):\n",
    "    mu_1.append(params[j]['mu'][0])\n",
    "    sigma_1.append(params[j]['sigma'][:,:,0])\n",
    "    lam_1.append(params[j]['lam'][0])\n",
    "  elif np.linalg.norm(mean_real_1 - mean_fitted_2) < np.linalg.norm(mean_real_1 - mean_fitted_1) and np.linalg.norm(mean_real_1 - mean_fitted_2) < np.linalg.norm(mean_real_1 - mean_fitted_3):\n",
    "    mu_1.append(params[j]['mu'][1])\n",
    "    sigma_1.append(params[j]['sigma'][:,:,1])\n",
    "    lam_1.append(params[j]['lam'][1])\n",
    "  else :\n",
    "    mu_1.append(params[j]['mu'][2])\n",
    "    sigma_1.append(params[j]['sigma'][:,:,2])\n",
    "    lam_1.append(params[j]['lam'][2])\n",
    "\n",
    "  # cerco cluster corrispondente al cluster 2\n",
    "  if np.linalg.norm(mean_real_2 - mean_fitted_1) < np.linalg.norm(mean_real_2 - mean_fitted_2) and np.linalg.norm(mean_real_2 - mean_fitted_1) < np.linalg.norm(mean_real_2 - mean_fitted_3):\n",
    "    mu_2.append(params[j]['mu'][0])\n",
    "    sigma_2.append(params[j]['sigma'][:,:,0])\n",
    "    lam_2.append(params[j]['lam'][0])\n",
    "  elif np.linalg.norm(mean_real_2 - mean_fitted_2) < np.linalg.norm(mean_real_2 - mean_fitted_1) and np.linalg.norm(mean_real_2 - mean_fitted_2) < np.linalg.norm(mean_real_2 - mean_fitted_3):\n",
    "    mu_2.append(params[j]['mu'][1])\n",
    "    sigma_2.append(params[j]['sigma'][:,:,1])\n",
    "    lam_2.append(params[j]['lam'][1])\n",
    "  else :\n",
    "    mu_2.append(params[j]['mu'][2])\n",
    "    sigma_2.append(params[j]['sigma'][:,:,2])\n",
    "    lam_2.append(params[j]['lam'][2])\n",
    "\n",
    "  # cerco cluster corrispondente al cluster 3\n",
    "  if np.linalg.norm(mean_real_3 - mean_fitted_1) < np.linalg.norm(mean_real_3 - mean_fitted_2) and np.linalg.norm(mean_real_3 - mean_fitted_1) < np.linalg.norm(mean_real_3 - mean_fitted_3):\n",
    "    mu_3.append(params[j]['mu'][0])\n",
    "    sigma_3.append(params[j]['sigma'][:,:,0])\n",
    "    lam_3.append(params[j]['lam'][0])\n",
    "  elif np.linalg.norm(mean_real_3 - mean_fitted_2) < np.linalg.norm(mean_real_3 - mean_fitted_1) and np.linalg.norm(mean_real_3 - mean_fitted_2) < np.linalg.norm(mean_real_3 - mean_fitted_3):\n",
    "    mu_3.append(params[j]['mu'][1])\n",
    "    sigma_3.append(params[j]['sigma'][:,:,1])\n",
    "    lam_3.append(params[j]['lam'][1])\n",
    "  else :\n",
    "    mu_3.append(params[j]['mu'][2])\n",
    "    sigma_3.append(params[j]['sigma'][:,:,2])\n",
    "    lam_3.append(params[j]['lam'][2])"
   ]
  },
  {
   "cell_type": "code",
   "execution_count": 7,
   "metadata": {},
   "outputs": [],
   "source": [
    "mu_1_1=[]\n",
    "mu_1_2=[]\n",
    "mu_2_1=[]\n",
    "mu_2_2=[]\n",
    "mu_3_1=[]\n",
    "mu_3_2=[]\n",
    "for i in range(100):\n",
    "    mu_1_1.append(mu_1[i][0])\n",
    "    mu_1_2.append(mu_1[i][1])\n",
    "    mu_2_1.append(mu_2[i][0])\n",
    "    mu_2_2.append(mu_2[i][1])\n",
    "    mu_3_1.append(mu_3[i][0])\n",
    "    mu_3_2.append(mu_3[i][1])\n",
    "    "
   ]
  },
  {
   "cell_type": "code",
   "execution_count": 8,
   "metadata": {},
   "outputs": [
    {
     "data": {
      "text/html": [
       "<div>\n",
       "<style scoped>\n",
       "    .dataframe tbody tr th:only-of-type {\n",
       "        vertical-align: middle;\n",
       "    }\n",
       "\n",
       "    .dataframe tbody tr th {\n",
       "        vertical-align: top;\n",
       "    }\n",
       "\n",
       "    .dataframe thead th {\n",
       "        text-align: right;\n",
       "    }\n",
       "</style>\n",
       "<table border=\"1\" class=\"dataframe\">\n",
       "  <thead>\n",
       "    <tr style=\"text-align: right;\">\n",
       "      <th></th>\n",
       "      <th>True mu1</th>\n",
       "      <th>Estimated Mean mu1</th>\n",
       "      <th>Standard Deviation mu1</th>\n",
       "      <th>True mu2</th>\n",
       "      <th>Estimated Mean mu2</th>\n",
       "      <th>Standard Deviation mu2</th>\n",
       "    </tr>\n",
       "  </thead>\n",
       "  <tbody>\n",
       "    <tr>\n",
       "      <th>0</th>\n",
       "      <td>-1.199710</td>\n",
       "      <td>-1.199393</td>\n",
       "      <td>0.000563</td>\n",
       "      <td>-0.449728</td>\n",
       "      <td>-0.454696</td>\n",
       "      <td>0.004402</td>\n",
       "    </tr>\n",
       "    <tr>\n",
       "      <th>1</th>\n",
       "      <td>0.803398</td>\n",
       "      <td>0.799975</td>\n",
       "      <td>0.004272</td>\n",
       "      <td>1.439499</td>\n",
       "      <td>1.440089</td>\n",
       "      <td>0.001585</td>\n",
       "    </tr>\n",
       "    <tr>\n",
       "      <th>2</th>\n",
       "      <td>0.796215</td>\n",
       "      <td>0.799215</td>\n",
       "      <td>0.004144</td>\n",
       "      <td>-0.839862</td>\n",
       "      <td>-0.833827</td>\n",
       "      <td>0.004956</td>\n",
       "    </tr>\n",
       "  </tbody>\n",
       "</table>\n",
       "</div>"
      ],
      "text/plain": [
       "   True mu1  Estimated Mean mu1  Standard Deviation mu1  True mu2  \\\n",
       "0 -1.199710           -1.199393                0.000563 -0.449728   \n",
       "1  0.803398            0.799975                0.004272  1.439499   \n",
       "2  0.796215            0.799215                0.004144 -0.839862   \n",
       "\n",
       "   Estimated Mean mu2  Standard Deviation mu2  \n",
       "0           -0.454696                0.004402  \n",
       "1            1.440089                0.001585  \n",
       "2           -0.833827                0.004956  "
      ]
     },
     "execution_count": 8,
     "metadata": {},
     "output_type": "execute_result"
    }
   ],
   "source": [
    "est_mu_1 = {'True mu1': [mean_real_1[0],mean_real_2[0],mean_real_3[0]],\n",
    "                   'Estimated Mean mu1': [np.mean(mu_1_1),np.mean(mu_2_1),np.mean(mu_3_1)],\n",
    "                   'Standard Deviation mu1': [np.std(mu_1_1),np.std(mu_2_1),np.std(mu_3_1)],\n",
    "           'True mu2': [mean_real_1[1],mean_real_2[1],mean_real_3[1]],\n",
    "                   'Estimated Mean mu2': [np.mean(mu_1_2),np.mean(mu_2_2),np.mean(mu_3_2)],\n",
    "                   'Standard Deviation mu2': [np.std(mu_1_2),np.std(mu_2_2),np.std(mu_3_2)]}\n",
    "est_mu_1 = pd.DataFrame(est_mu_1)\n",
    "est_mu_1"
   ]
  },
  {
   "cell_type": "code",
   "execution_count": 9,
   "metadata": {},
   "outputs": [
    {
     "data": {
      "text/html": [
       "<div>\n",
       "<style scoped>\n",
       "    .dataframe tbody tr th:only-of-type {\n",
       "        vertical-align: middle;\n",
       "    }\n",
       "\n",
       "    .dataframe tbody tr th {\n",
       "        vertical-align: top;\n",
       "    }\n",
       "\n",
       "    .dataframe thead th {\n",
       "        text-align: right;\n",
       "    }\n",
       "</style>\n",
       "<table border=\"1\" class=\"dataframe\">\n",
       "  <thead>\n",
       "    <tr style=\"text-align: right;\">\n",
       "      <th></th>\n",
       "      <th>True sigma</th>\n",
       "      <th>Estimated Mean sigma</th>\n",
       "      <th>Standard Deviation sigma</th>\n",
       "    </tr>\n",
       "  </thead>\n",
       "  <tbody>\n",
       "    <tr>\n",
       "      <th>0</th>\n",
       "      <td>[[0.026535593578478477, 0.01835051806060712], ...</td>\n",
       "      <td>[[0.02789786272177944, 0.01893037920431871], [...</td>\n",
       "      <td>[[0.0009813724586621184, 0.0011023335747048614...</td>\n",
       "    </tr>\n",
       "    <tr>\n",
       "      <th>1</th>\n",
       "      <td>[[0.07984949321283275, -0.037153794499220454],...</td>\n",
       "      <td>[[0.07944285844468478, -0.038217522108358076],...</td>\n",
       "      <td>[[0.0027952323254387393, 0.0024951883633727674...</td>\n",
       "    </tr>\n",
       "    <tr>\n",
       "      <th>2</th>\n",
       "      <td>[[0.019705609684900344, 0.0074969900452265354]...</td>\n",
       "      <td>[[0.019895297121311186, 0.007489928131678154],...</td>\n",
       "      <td>[[0.0007008351132916279, 0.0006751984979630976...</td>\n",
       "    </tr>\n",
       "  </tbody>\n",
       "</table>\n",
       "</div>"
      ],
      "text/plain": [
       "                                          True sigma  \\\n",
       "0  [[0.026535593578478477, 0.01835051806060712], ...   \n",
       "1  [[0.07984949321283275, -0.037153794499220454],...   \n",
       "2  [[0.019705609684900344, 0.0074969900452265354]...   \n",
       "\n",
       "                                Estimated Mean sigma  \\\n",
       "0  [[0.02789786272177944, 0.01893037920431871], [...   \n",
       "1  [[0.07944285844468478, -0.038217522108358076],...   \n",
       "2  [[0.019895297121311186, 0.007489928131678154],...   \n",
       "\n",
       "                            Standard Deviation sigma  \n",
       "0  [[0.0009813724586621184, 0.0011023335747048614...  \n",
       "1  [[0.0027952323254387393, 0.0024951883633727674...  \n",
       "2  [[0.0007008351132916279, 0.0006751984979630976...  "
      ]
     },
     "execution_count": 9,
     "metadata": {},
     "output_type": "execute_result"
    }
   ],
   "source": [
    "est_sigma = {'True sigma': [np.cov(data['x1'][cluster==1],data['x2'][cluster==1]),np.cov(data['x1'][cluster==2],data['x2'][cluster==2]),np.cov(data['x1'][cluster==3],data['x2'][cluster==3])],\n",
    "                   'Estimated Mean sigma': [np.mean(sigma_1, axis=0),np.mean(sigma_2, axis=0),np.mean(sigma_3, axis=0)],\n",
    "                   'Standard Deviation sigma': [np.std(sigma_1, axis=0),np.std(sigma_2, axis=0),np.std(sigma_3, axis=0)]}\n",
    "est_sigma = pd.DataFrame(est_sigma)\n",
    "est_sigma"
   ]
  },
  {
   "cell_type": "code",
   "execution_count": 12,
   "metadata": {},
   "outputs": [
    {
     "data": {
      "text/plain": [
       "array([[0.00070084, 0.0006752 ],\n",
       "       [0.0006752 , 0.00116893]])"
      ]
     },
     "execution_count": 12,
     "metadata": {},
     "output_type": "execute_result"
    }
   ],
   "source": [
    "np.std(sigma_3, axis=0)"
   ]
  },
  {
   "cell_type": "code",
   "execution_count": 113,
   "metadata": {},
   "outputs": [],
   "source": [
    "prob_1 = [0.5,0.5]\n",
    "prob_2 = [0.3,0.7]\n",
    "prob_3 = [0.6, 0.4]"
   ]
  },
  {
   "cell_type": "code",
   "execution_count": 117,
   "metadata": {},
   "outputs": [
    {
     "data": {
      "text/html": [
       "<div>\n",
       "<style scoped>\n",
       "    .dataframe tbody tr th:only-of-type {\n",
       "        vertical-align: middle;\n",
       "    }\n",
       "\n",
       "    .dataframe tbody tr th {\n",
       "        vertical-align: top;\n",
       "    }\n",
       "\n",
       "    .dataframe thead th {\n",
       "        text-align: right;\n",
       "    }\n",
       "</style>\n",
       "<table border=\"1\" class=\"dataframe\">\n",
       "  <thead>\n",
       "    <tr style=\"text-align: right;\">\n",
       "      <th></th>\n",
       "      <th>True lambda</th>\n",
       "      <th>Estimated Mean lambda</th>\n",
       "      <th>Standard Deviation lambda</th>\n",
       "    </tr>\n",
       "  </thead>\n",
       "  <tbody>\n",
       "    <tr>\n",
       "      <th>0</th>\n",
       "      <td>0.5</td>\n",
       "      <td>0.499620</td>\n",
       "      <td>0.010966</td>\n",
       "    </tr>\n",
       "    <tr>\n",
       "      <th>1</th>\n",
       "      <td>0.7</td>\n",
       "      <td>0.701287</td>\n",
       "      <td>0.012249</td>\n",
       "    </tr>\n",
       "    <tr>\n",
       "      <th>2</th>\n",
       "      <td>0.4</td>\n",
       "      <td>0.400233</td>\n",
       "      <td>0.013436</td>\n",
       "    </tr>\n",
       "  </tbody>\n",
       "</table>\n",
       "</div>"
      ],
      "text/plain": [
       "   True lambda  Estimated Mean lambda  Standard Deviation lambda\n",
       "0          0.5               0.499620                   0.010966\n",
       "1          0.7               0.701287                   0.012249\n",
       "2          0.4               0.400233                   0.013436"
      ]
     },
     "execution_count": 117,
     "metadata": {},
     "output_type": "execute_result"
    }
   ],
   "source": [
    "est_lam = {'True lambda': [prob_1[1],prob_2[1],prob_3[1]],\n",
    "                   'Estimated Mean lambda': [np.mean(lam_1),np.mean(lam_2),np.mean(lam_3)],\n",
    "                   'Standard Deviation lambda': [np.std(lam_1),np.std(lam_2),np.std(lam_3)]}\n",
    "est_lam = pd.DataFrame(est_lam)\n",
    "est_lam"
   ]
  },
  {
   "cell_type": "markdown",
   "metadata": {},
   "source": []
  }
 ],
 "metadata": {
  "kernelspec": {
   "display_name": "Python 3",
   "language": "python",
   "name": "python3"
  },
  "language_info": {
   "codemirror_mode": {
    "name": "ipython",
    "version": 3
   },
   "file_extension": ".py",
   "mimetype": "text/x-python",
   "name": "python",
   "nbconvert_exporter": "python",
   "pygments_lexer": "ipython3",
   "version": "3.8.5"
  }
 },
 "nbformat": 4,
 "nbformat_minor": 4
}
